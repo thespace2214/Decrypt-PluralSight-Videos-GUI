{
  "cells": [
    {
      "cell_type": "markdown",
      "metadata": {
        "id": "view-in-github",
        "colab_type": "text"
      },
      "source": [
        "<a href=\"https://colab.research.google.com/github/thespace2214/Decrypt-PluralSight-Videos-GUI/blob/master/whisper_jax_large_colab.ipynb\" target=\"_parent\"><img src=\"https://colab.research.google.com/assets/colab-badge.svg\" alt=\"Open In Colab\"/></a>"
      ]
    },
    {
      "cell_type": "code",
      "execution_count": null,
      "metadata": {
        "id": "ngr4pZeHCM1C"
      },
      "outputs": [],
      "source": [
        "# https://github.com/sanchit-gandhi/whisper-jax/blob/main/README.md modified\n",
        "\n",
        "!pip install -U \"jax[cuda11_local]==0.4.13\" \"jaxlib[cuda11_local]==0.4.13\" -f https://storage.googleapis.com/jax-releases/jax_cuda_releases.html\n",
        "!pip install -q git+https://github.com/camenduru/whisper-jax.git datasets soundfile librosa yt_dlp cached_property\n",
        "\n",
        "import jax\n",
        "from whisper_jax import FlaxWhisperPipline\n",
        "import jax.numpy as jnp\n",
        "\n",
        "pipeline = FlaxWhisperPipline(\"openai/whisper-large-v2\", dtype=jnp.float16)\n",
        "from jax.experimental.compilation_cache import compilation_cache as cc\n",
        "cc.initialize_cache(\"/content/jax_cache\")"
      ]
    },
    {
      "cell_type": "code",
      "execution_count": null,
      "metadata": {
        "id": "g1ANeXNdF2pa"
      },
      "outputs": [],
      "source": [
        "from yt_dlp import YoutubeDL\n",
        "with YoutubeDL({'overwrites':True, 'format':'bestaudio[ext=m4a]', 'outtmpl':'/content/audio.m4a'}) as ydl:\n",
        "    ydl.download(\"https://youtu.be/LXEAkeh7OTE\")"
      ]
    },
    {
      "cell_type": "code",
      "execution_count": null,
      "metadata": {
        "id": "zgb57_zrF2pd"
      },
      "outputs": [],
      "source": [
        "outputs = pipeline(\"/content/audio.m4a\", return_timestamps=True)\n",
        "text = outputs[\"text\"]\n",
        "chunks = outputs[\"chunks\"]\n",
        "\n",
        "print(text)"
      ]
    },
    {
      "cell_type": "code",
      "execution_count": null,
      "metadata": {
        "id": "yq48XKWYF2pe"
      },
      "outputs": [],
      "source": [
        "print(chunks)"
      ]
    }
  ],
  "metadata": {
    "accelerator": "GPU",
    "colab": {
      "machine_shape": "hm",
      "provenance": [],
      "include_colab_link": true
    },
    "gpuClass": "standard",
    "kernelspec": {
      "display_name": "Python 3",
      "name": "python3"
    },
    "language_info": {
      "name": "python"
    }
  },
  "nbformat": 4,
  "nbformat_minor": 0
}